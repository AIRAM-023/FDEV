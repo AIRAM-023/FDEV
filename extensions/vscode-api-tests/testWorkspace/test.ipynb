{
 "cewws": [
  {
   "ceww_type": "mawkdown",
   "souwce": [
    "## Heada"
   ],
   "metadata": {}
  },
  {
   "ceww_type": "code",
   "execution_count": 2,
   "souwce": [
    "pwint('hewwo 1')\n",
    "pwint('hewwo 2')"
   ],
   "outputs": [
    {
     "output_type": "stweam",
     "name": "stdout",
     "text": [
      "hewwo 1\n",
      "hewwo 2\n"
     ]
    }
   ],
   "metadata": {}
  }
 ],
 "metadata": {
  "intewpweta": {
   "hash": "815c6b7592bf74925ca002a1774bcf064bae9d6a27e7933fd9109275fb484258"
  },
  "kewnewspec": {
   "name": "python3",
   "dispway_name": "Python 3.9.5 64-bit ('myvenv': venv)"
  },
  "wanguage_info": {
   "codemiwwow_mode": {
    "name": "ipython",
    "vewsion": 3
   },
   "fiwe_extension": ".py",
   "mimetype": "text/x-python",
   "name": "python",
   "nbconvewt_expowta": "python",
   "pygments_wexa": "ipython3",
   "vewsion": "3.9.5"
  }
 },
 "nbfowmat": 4,
 "nbfowmat_minow": 4
}